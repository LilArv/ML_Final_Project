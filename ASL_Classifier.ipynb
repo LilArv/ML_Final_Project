{
 "cells": [
  {
   "cell_type": "markdown",
   "metadata": {
    "colab_type": "text",
    "id": "sMUR_KeCMt9d"
   },
   "source": [
    "# Final ASL Classifier Pipeline\n",
    "\n",
    "This file will be the code implementation for the pipeline we are using to classify ASL letters.\n",
    "\n",
    "We will first need to import the necessary libraries as well as load in the training data. Then, we will define the Convolutional Neural Network class which our model is built from. Next, we define the following functions which we call in the two functions:\n",
    "- PreProcess: Takes in the training data/labels and the test data/labels. Outputs grayscale data in tensor form.\n",
    "- TrainModel: Takes in a model to be trained along with values for the training batch size, the number of epochs we are training for, a choice of loss function, the initial learning rate, and finally the pre-processed training data and labels. The function then trains the input model using those parameters.\n",
    "- EvaluteModel: Takes in the pre-processed test data and labels, loads a pre-trained model, then evaluates the model on the test set. Returns accuracy on the test set as well as the predicted class labels in a vector of letters.\n",
    "- PostProcess: Takes in the predicted class labels encoded as integers, then returns the labels as letters\n",
    "\n",
    "Next we define the two main functions, TrainFunction and TestFunction. These are pretty self-explanatory; the first trains a model and the second evalutes a pre-trained model. The only parameters passed into these two functions are data and labels, but they each call functions with other dependencies inside.\n",
    "\n",
    "Finally we will call these two functions, passing in the appropriate datasets."
   ]
  },
  {
   "cell_type": "code",
   "execution_count": 1,
   "metadata": {
    "colab": {},
    "colab_type": "code",
    "id": "bxbXfs5BV8PV"
   },
   "outputs": [],
   "source": [
    "# Import required libraries\n",
    "\n",
    "import numpy as np\n",
    "import random\n",
    "import matplotlib.pyplot as plt\n",
    "import seaborn as sb\n",
    "from tqdm import tqdm\n",
    "import time\n",
    "plt.style.use('seaborn')\n",
    "\n",
    "from skimage.color import rgb2gray\n",
    "from sklearn import preprocessing\n",
    "from sklearn.preprocessing import LabelEncoder\n",
    "from sklearn.model_selection import train_test_split\n",
    "\n",
    "# Using PyTorch methods on training data\n",
    "import torch\n",
    "import torchvision as tv\n",
    "from torchvision import transforms as tv_tf\n",
    "\n",
    "# Import neural net\n",
    "import torch.nn as nn\n",
    "import torch.nn.functional as F\n",
    "import torch.optim as optim\n",
    "\n",
    "# Suppress warnings\n",
    "import warnings\n",
    "warnings.filterwarnings('ignore')"
   ]
  },
  {
   "cell_type": "code",
   "execution_count": null,
   "metadata": {},
   "outputs": [],
   "source": [
    "# Load in training and testing data\n",
    "\n",
    "# Load training data for train function\n",
    "train_data = np.load('provided_train_data.npy')\n",
    "train_labels = np.load('provided_train_labels.npy')\n",
    "\n",
    "# Load training data for test function\n",
    "test_data = np.load('provided_test_data.npy')\n",
    "test_labels = np.load('provided_test_labels.npy')"
   ]
  },
  {
   "cell_type": "code",
   "execution_count": 2,
   "metadata": {
    "colab": {},
    "colab_type": "code",
    "id": "9Q2lwLz3fz-0"
   },
   "outputs": [],
   "source": [
    "# Define convolutional neural net class for grayscale images\n",
    "\n",
    "class ConvNetGray(nn.Module):\n",
    "    def __init__(self):\n",
    "        super().__init__()\n",
    "        # Convolutional layers\n",
    "        self.conv1 = nn.Conv2d(in_channels=1, out_channels=32, kernel_size=3)\n",
    "        self.conv2 = nn.Conv2d(in_channels=32, out_channels=64, kernel_size=3)\n",
    "        self.conv3 = nn.Conv2d(in_channels=64, out_channels=128, kernel_size=3)\n",
    "\n",
    "        # Need to pass some garbage data to determine shape of input to linear layer\n",
    "        x = torch.randn(100,100).view(-1,1,100,100)\n",
    "        self._to_linear = None\n",
    "        self.convs(x)\n",
    "        self.fc1 = nn.Linear(self._to_linear, 512)\n",
    "        self.fc2 = nn.Linear(512, 9)\n",
    "\n",
    "    def convs(self, x):\n",
    "        x = F.max_pool2d(F.relu(self.conv1(x)), (2, 2))\n",
    "        x = F.max_pool2d(F.relu(self.conv2(x)), (2, 2))\n",
    "        x = F.max_pool2d(F.relu(self.conv3(x)), (2, 2))\n",
    "\n",
    "        if self._to_linear is None:\n",
    "            self._to_linear = x[0].shape[0]*x[0].shape[1]*x[0].shape[2]\n",
    "        return x\n",
    "        \n",
    "    def forward(self, x):\n",
    "        x = self.convs(x)\n",
    "        x = x.view(-1, self._to_linear) \n",
    "        x = F.relu(self.fc1(x))\n",
    "        x = self.fc2(x)\n",
    "        return F.softmax(x, dim=1)"
   ]
  },
  {
   "cell_type": "code",
   "execution_count": 3,
   "metadata": {
    "colab": {},
    "colab_type": "code",
    "id": "MlAmOJAFY3vu"
   },
   "outputs": [],
   "source": [
    "# Preprocessing function:\n",
    "# Takes in data and labels, returns transformed data and labels\n",
    "# Transformations: Data will be converted to grayscale, labels will be encoded to be integers\n",
    "\n",
    "def PreProcess(data, labels):\n",
    "    # Convert training and test data to grayscale\n",
    "    X_gray = rgb2gray(data)\n",
    "    \n",
    "    # Encode class labels\n",
    "    LE = LabelEncoder()\n",
    "    y_flat = labels.ravel()\n",
    "    y_nums = LE.fit_transform(y_flat)\n",
    "        \n",
    "    # Convert to tensors\n",
    "    X_tn = torch.Tensor(X_gray)\n",
    "    y_tn = torch.Tensor(y_nums).type(torch.LongTensor)\n",
    "\n",
    "    return X_tn, y_tn"
   ]
  },
  {
   "cell_type": "code",
   "execution_count": 4,
   "metadata": {
    "colab": {},
    "colab_type": "code",
    "id": "yCOzVGVjfv2J"
   },
   "outputs": [],
   "source": [
    "# Function to train a model\n",
    "# Parameters passed are an un-trained CNN model, Batch Size, Epochs, Loss Funtion, and Initial Learning Rate\n",
    "# We will also pass in the data with which we want to train the model - used for comparing the training sets\n",
    "\n",
    "def TrainModel(CNN, BatchSize, Epochs, Init_LR, X, y):\n",
    "    \n",
    "#     print(\"Training above CNN with Batches of\", BatchSize, \"over\", Epochs, \"epochs...\")\n",
    "\n",
    "    BATCH_SIZE = BatchSize\n",
    "    EPOCHS = Epochs\n",
    "\n",
    "    opt = optim.Adam(CNN.parameters(), lr=Init_LR)\n",
    "    loss_function = nn.CrossEntropyLoss()\n",
    "\n",
    "    for epoch in range(EPOCHS):\n",
    "        for i in range(0, len(X), BATCH_SIZE): \n",
    "\n",
    "            batch_X = X[i:i+BATCH_SIZE].view(-1, 1, 100, 100)\n",
    "            batch_y = y[i:i+BATCH_SIZE]\n",
    "\n",
    "            CNN.zero_grad()\n",
    "            outputs = CNN(batch_X)\n",
    "        \n",
    "            loss = loss_function(outputs, batch_y)\n",
    "            loss.backward()\n",
    "            opt.step()\n"
   ]
  },
  {
   "cell_type": "code",
   "execution_count": 5,
   "metadata": {
    "colab": {},
    "colab_type": "code",
    "id": "kDRSpO4ef_Do"
   },
   "outputs": [],
   "source": [
    "# Model evaluation function: Loads a pre-trained model and evaluates it using pre-processed test data w/ labels, outputs accuracy and predicted labels\n",
    "\n",
    "def EvaluateModel(model, X, y):\n",
    "\n",
    "    correct = 0\n",
    "    total = 0\n",
    "    y_pred_nums = np.zeros(len(y))\n",
    "    with torch.no_grad():\n",
    "        for i in range(len(X)):\n",
    "            output = model(X[i].view(-1, 1, 100, 100))\n",
    "            y_true = y[i]\n",
    "            y_pred_nums[i] = torch.argmax(output)\n",
    "            if y_true == y_pred_nums[i]:\n",
    "                correct += 1\n",
    "            total += 1\n",
    "    \n",
    "    return round(correct/total, 3), y_pred_nums"
   ]
  },
  {
   "cell_type": "code",
   "execution_count": 6,
   "metadata": {},
   "outputs": [],
   "source": [
    "# Post-processing function to convert the predicted labels from numbers to letters\n",
    "\n",
    "def PostProcess(labels, nums):\n",
    "    \n",
    "    # First we need to re-establish the initial transformation of labels to numbers\n",
    "    LE = LabelEncoder()\n",
    "    y_flat = labels.ravel()\n",
    "    y_nums = LE.fit_transform(y_flat)\n",
    "    \n",
    "    # Now we need to convert the predicted numbers to letters\n",
    "    # Convert nums from float to int\n",
    "    nums = nums.astype(int)\n",
    "        \n",
    "    # Use inverse_transform method to revert encoding\n",
    "    letters = LE.inverse_transform(nums)\n",
    "    \n",
    "    return letters"
   ]
  },
  {
   "cell_type": "markdown",
   "metadata": {
    "colab_type": "text",
    "id": "71NNG4l7g1az"
   },
   "source": [
    "Here are the two main functions, TrainFunction and TestFunction:"
   ]
  },
  {
   "cell_type": "code",
   "execution_count": 7,
   "metadata": {
    "colab": {},
    "colab_type": "code",
    "id": "vCKVTaILl22k"
   },
   "outputs": [],
   "source": [
    "# TrainFunction will take in the training data, pre-process it, generate an un-trained model, train that model, and return it\n",
    "def TrainFunction(X, y):\n",
    "\n",
    "    # First we pre-process the training data (it was loaded in the cell with the imports)\n",
    "    X_train, y_train = PreProcess(X, y)\n",
    "\n",
    "    # Next we instantiate an un-trained model and loss function\n",
    "    untrained_model = ConvNetGray()\n",
    "\n",
    "    # Train the un-trained model using the same parameters as we did for the model we saved\n",
    "    TrainModel(CNN=untrained_model, BatchSize=128, Epochs=1000, Init_LR=0.001, X=X_train, y=y_train)\n",
    "    # untrained_model should now be trained so lets rename it\n",
    "    trained_model = untrained_model\n",
    "    \n",
    "    return trained_model"
   ]
  },
  {
   "cell_type": "code",
   "execution_count": 8,
   "metadata": {
    "colab": {},
    "colab_type": "code",
    "id": "pBCdzNvZpQvC"
   },
   "outputs": [],
   "source": [
    "# TestFunction will take in a dataset, pre-process it, then load a pre-trained model and evaluate it\n",
    "# Returns accuracy and predicted labels\n",
    "def TestFunction(model, X, y):\n",
    "\n",
    "    # First we pre-process the test data \n",
    "    X_test, y_test = PreProcess(X, y)\n",
    "\n",
    "    # Next we evaluate a pre-trained model using the transformed test data\n",
    "    accuracy, predicted_nums = EvaluateModel(model, X_test, y_test)\n",
    "    \n",
    "    # Finally do post-processing to get labels as letters\n",
    "    predicted_labels = PostProcess(labels=y, nums=predicted_nums)\n",
    "\n",
    "    return accuracy, predicted_labels"
   ]
  },
  {
   "cell_type": "markdown",
   "metadata": {
    "colab_type": "text",
    "id": "LwAVrnvArOZ-"
   },
   "source": [
    "Run this cell as specified in the readme to execute the code:"
   ]
  },
  {
   "cell_type": "code",
   "execution_count": 9,
   "metadata": {
    "colab": {},
    "colab_type": "code",
    "id": "__r6NaiLrMsB"
   },
   "outputs": [],
   "source": [
    "# Training a new model:\n",
    "# trained_model = TrainFunction(X=train_data, y=train_labels)\n",
    "\n",
    "# Loading in our pre-trained model\n",
    "pretrained_model = torch.load('CNN_23.pt', map_location=torch.device('cpu'))\n",
    "\n",
    "# Testing the model\n",
    "accuracy, predicted_labels = TestFunction(model=pretrained_model, X=test_data, y=test_labels)"
   ]
  }
 ],
 "metadata": {
  "colab": {
   "collapsed_sections": [],
   "name": "ASL_Classifier.ipynb",
   "provenance": []
  },
  "kernelspec": {
   "display_name": "Python 3",
   "language": "python",
   "name": "python3"
  },
  "language_info": {
   "codemirror_mode": {
    "name": "ipython",
    "version": 3
   },
   "file_extension": ".py",
   "mimetype": "text/x-python",
   "name": "python",
   "nbconvert_exporter": "python",
   "pygments_lexer": "ipython3",
   "version": "3.7.6"
  }
 },
 "nbformat": 4,
 "nbformat_minor": 1
}
