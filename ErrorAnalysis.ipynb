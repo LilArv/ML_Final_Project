{
 "cells": [
  {
   "cell_type": "markdown",
   "metadata": {
    "colab_type": "text",
    "id": "i9uuxD7Xr9Yi"
   },
   "source": [
    "This notebook will be used to conduct error analysis on our model using the same partitions of training and test data that we used in Lab 4 to generate the model. We will generate graphs of learning rate in training and test, then look at accuracy for each letter, then generate a confusion matrix."
   ]
  },
  {
   "cell_type": "code",
   "execution_count": 0,
   "metadata": {
    "colab": {},
    "colab_type": "code",
    "id": "v6Skuj6-vR-5"
   },
   "outputs": [],
   "source": [
    "# Import required libraries\n",
    "\n",
    "import numpy as np\n",
    "import random\n",
    "import matplotlib.pyplot as plt\n",
    "import seaborn as sb\n",
    "from tqdm import tqdm\n",
    "import time\n",
    "plt.style.use('seaborn')\n",
    "\n",
    "from skimage.color import rgb2gray\n",
    "from sklearn import preprocessing\n",
    "from sklearn.preprocessing import LabelEncoder\n",
    "from sklearn.model_selection import train_test_split\n",
    "\n",
    "# Using PyTorch methods on training data\n",
    "import torch\n",
    "import torchvision as tv\n",
    "from torchvision import transforms as tv_tf\n",
    "\n",
    "# Import neural net\n",
    "import torch.nn as nn\n",
    "import torch.nn.functional as F\n",
    "import torch.optim as optim\n",
    "\n",
    "# Suppress warnings\n",
    "import warnings\n",
    "warnings.filterwarnings('ignore')"
   ]
  },
  {
   "cell_type": "code",
   "execution_count": 2,
   "metadata": {
    "colab": {
     "base_uri": "https://localhost:8080/",
     "height": 346,
     "resources": {
      "http://localhost:8080/nbextensions/google.colab/files.js": {
       "data": "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",
       "headers": [
        [
         "content-type",
         "application/javascript"
        ]
       ],
       "ok": true,
       "status": 200,
       "status_text": ""
      }
     }
    },
    "colab_type": "code",
    "id": "7jaS2mNks6vF",
    "outputId": "1d7da00d-2f7f-479a-ddc7-16d97b72650e"
   },
   "outputs": [
    {
     "data": {
      "text/html": [
       "\n",
       "     <input type=\"file\" id=\"files-723d4dfa-d3c4-44eb-bd22-d514d42dc1ea\" name=\"files[]\" multiple disabled />\n",
       "     <output id=\"result-723d4dfa-d3c4-44eb-bd22-d514d42dc1ea\">\n",
       "      Upload widget is only available when the cell has been executed in the\n",
       "      current browser session. Please rerun this cell to enable.\n",
       "      </output>\n",
       "      <script src=\"/nbextensions/google.colab/files.js\"></script> "
      ],
      "text/plain": [
       "<IPython.core.display.HTML object>"
      ]
     },
     "metadata": {
      "tags": []
     },
     "output_type": "display_data"
    },
    {
     "ename": "KeyboardInterrupt",
     "evalue": "ignored",
     "output_type": "error",
     "traceback": [
      "\u001b[0;31m---------------------------------------------------------------------------\u001b[0m",
      "\u001b[0;31mKeyboardInterrupt\u001b[0m                         Traceback (most recent call last)",
      "\u001b[0;32m<ipython-input-2-21dc3c638f66>\u001b[0m in \u001b[0;36m<module>\u001b[0;34m()\u001b[0m\n\u001b[1;32m      1\u001b[0m \u001b[0;32mfrom\u001b[0m \u001b[0mgoogle\u001b[0m\u001b[0;34m.\u001b[0m\u001b[0mcolab\u001b[0m \u001b[0;32mimport\u001b[0m \u001b[0mfiles\u001b[0m\u001b[0;34m\u001b[0m\u001b[0;34m\u001b[0m\u001b[0m\n\u001b[0;32m----> 2\u001b[0;31m \u001b[0muploaded\u001b[0m \u001b[0;34m=\u001b[0m \u001b[0mfiles\u001b[0m\u001b[0;34m.\u001b[0m\u001b[0mupload\u001b[0m\u001b[0;34m(\u001b[0m\u001b[0;34m)\u001b[0m\u001b[0;34m\u001b[0m\u001b[0;34m\u001b[0m\u001b[0m\n\u001b[0m",
      "\u001b[0;32m/usr/local/lib/python3.6/dist-packages/google/colab/files.py\u001b[0m in \u001b[0;36mupload\u001b[0;34m()\u001b[0m\n\u001b[1;32m     62\u001b[0m   result = _output.eval_js(\n\u001b[1;32m     63\u001b[0m       'google.colab._files._uploadFiles(\"{input_id}\", \"{output_id}\")'.format(\n\u001b[0;32m---> 64\u001b[0;31m           input_id=input_id, output_id=output_id))\n\u001b[0m\u001b[1;32m     65\u001b[0m   \u001b[0mfiles\u001b[0m \u001b[0;34m=\u001b[0m \u001b[0m_collections\u001b[0m\u001b[0;34m.\u001b[0m\u001b[0mdefaultdict\u001b[0m\u001b[0;34m(\u001b[0m\u001b[0m_six\u001b[0m\u001b[0;34m.\u001b[0m\u001b[0mbinary_type\u001b[0m\u001b[0;34m)\u001b[0m\u001b[0;34m\u001b[0m\u001b[0;34m\u001b[0m\u001b[0m\n\u001b[1;32m     66\u001b[0m   \u001b[0;31m# Mapping from original filename to filename as saved locally.\u001b[0m\u001b[0;34m\u001b[0m\u001b[0;34m\u001b[0m\u001b[0;34m\u001b[0m\u001b[0m\n",
      "\u001b[0;32m/usr/local/lib/python3.6/dist-packages/google/colab/output/_js.py\u001b[0m in \u001b[0;36meval_js\u001b[0;34m(script, ignore_result)\u001b[0m\n\u001b[1;32m     37\u001b[0m   \u001b[0;32mif\u001b[0m \u001b[0mignore_result\u001b[0m\u001b[0;34m:\u001b[0m\u001b[0;34m\u001b[0m\u001b[0;34m\u001b[0m\u001b[0m\n\u001b[1;32m     38\u001b[0m     \u001b[0;32mreturn\u001b[0m\u001b[0;34m\u001b[0m\u001b[0;34m\u001b[0m\u001b[0m\n\u001b[0;32m---> 39\u001b[0;31m   \u001b[0;32mreturn\u001b[0m \u001b[0m_message\u001b[0m\u001b[0;34m.\u001b[0m\u001b[0mread_reply_from_input\u001b[0m\u001b[0;34m(\u001b[0m\u001b[0mrequest_id\u001b[0m\u001b[0;34m)\u001b[0m\u001b[0;34m\u001b[0m\u001b[0;34m\u001b[0m\u001b[0m\n\u001b[0m\u001b[1;32m     40\u001b[0m \u001b[0;34m\u001b[0m\u001b[0m\n\u001b[1;32m     41\u001b[0m \u001b[0;34m\u001b[0m\u001b[0m\n",
      "\u001b[0;32m/usr/local/lib/python3.6/dist-packages/google/colab/_message.py\u001b[0m in \u001b[0;36mread_reply_from_input\u001b[0;34m(message_id, timeout_sec)\u001b[0m\n\u001b[1;32m     99\u001b[0m     \u001b[0mreply\u001b[0m \u001b[0;34m=\u001b[0m \u001b[0m_read_next_input_message\u001b[0m\u001b[0;34m(\u001b[0m\u001b[0;34m)\u001b[0m\u001b[0;34m\u001b[0m\u001b[0;34m\u001b[0m\u001b[0m\n\u001b[1;32m    100\u001b[0m     \u001b[0;32mif\u001b[0m \u001b[0mreply\u001b[0m \u001b[0;34m==\u001b[0m \u001b[0m_NOT_READY\u001b[0m \u001b[0;32mor\u001b[0m \u001b[0;32mnot\u001b[0m \u001b[0misinstance\u001b[0m\u001b[0;34m(\u001b[0m\u001b[0mreply\u001b[0m\u001b[0;34m,\u001b[0m \u001b[0mdict\u001b[0m\u001b[0;34m)\u001b[0m\u001b[0;34m:\u001b[0m\u001b[0;34m\u001b[0m\u001b[0;34m\u001b[0m\u001b[0m\n\u001b[0;32m--> 101\u001b[0;31m       \u001b[0mtime\u001b[0m\u001b[0;34m.\u001b[0m\u001b[0msleep\u001b[0m\u001b[0;34m(\u001b[0m\u001b[0;36m0.025\u001b[0m\u001b[0;34m)\u001b[0m\u001b[0;34m\u001b[0m\u001b[0;34m\u001b[0m\u001b[0m\n\u001b[0m\u001b[1;32m    102\u001b[0m       \u001b[0;32mcontinue\u001b[0m\u001b[0;34m\u001b[0m\u001b[0;34m\u001b[0m\u001b[0m\n\u001b[1;32m    103\u001b[0m     if (reply.get('type') == 'colab_reply' and\n",
      "\u001b[0;31mKeyboardInterrupt\u001b[0m: "
     ]
    }
   ],
   "source": [
    "# # # Load files to Colab\n",
    "# from google.colab import files\n",
    "# uploaded = files.upload()"
   ]
  },
  {
   "cell_type": "code",
   "execution_count": 0,
   "metadata": {
    "colab": {},
    "colab_type": "code",
    "id": "ZfyW__tAwYnw"
   },
   "outputs": [],
   "source": [
    "# Define convolutional neural net class for grayscale images\n",
    "\n",
    "class ConvNetGray(nn.Module):\n",
    "    def __init__(self):\n",
    "        super().__init__()\n",
    "        # Convolutional layers - try reducing number of layers in linear layer\n",
    "        self.conv1 = nn.Conv2d(in_channels=1, out_channels=32, kernel_size=3)\n",
    "        self.conv2 = nn.Conv2d(in_channels=32, out_channels=64, kernel_size=3)\n",
    "        self.conv3 = nn.Conv2d(in_channels=64, out_channels=128, kernel_size=3)\n",
    "        # self.conv4 = nn.Conv2d(in_channels=128, out_channels=256, kernel_size=5)\n",
    "        # Need to pass some garbage data to determine shape of input to linear layer\n",
    "        x = torch.randn(100,100).view(-1,1,100,100)\n",
    "        self._to_linear = None\n",
    "        self.convs(x)\n",
    "        self.fc1 = nn.Linear(self._to_linear, 512)\n",
    "        self.fc2 = nn.Linear(512, 9)\n",
    "\n",
    "    def convs(self, x):\n",
    "        x = F.max_pool2d(F.relu(self.conv1(x)), (2, 2))\n",
    "        x = F.max_pool2d(F.relu(self.conv2(x)), (2, 2))\n",
    "        x = F.max_pool2d(F.relu(self.conv3(x)), (2, 2))\n",
    "        # x = F.max_pool2d(F.relu(self.conv4(x)), (2, 2))\n",
    "        if self._to_linear is None:\n",
    "            self._to_linear = x[0].shape[0]*x[0].shape[1]*x[0].shape[2]\n",
    "        return x\n",
    "        \n",
    "    def forward(self, x):\n",
    "        x = self.convs(x)\n",
    "        x = x.view(-1, self._to_linear)  # .view is reshape ... this flattens X before \n",
    "        x = F.relu(self.fc1(x))\n",
    "        x = self.fc2(x) # bc this is our output layer. No activation here.\n",
    "        return F.softmax(x, dim=1)"
   ]
  },
  {
   "cell_type": "code",
   "execution_count": 0,
   "metadata": {
    "colab": {},
    "colab_type": "code",
    "id": "Lx9jGFnewbak"
   },
   "outputs": [],
   "source": [
    "# Preprocessing function:\n",
    "# Takes in data and labels, returns transformed data and labels\n",
    "# Transformations: Data will be converted to grayscale, labels will be encoded to be integers\n",
    "\n",
    "def PreProcess(data, labels):\n",
    "    # Convert training and test data to grayscale\n",
    "    X_gray = rgb2gray(data)\n",
    "    \n",
    "    # Encode class labels\n",
    "    LE = LabelEncoder()\n",
    "    y_flat = labels.ravel()\n",
    "    y_nums = LE.fit_transform(y_flat)\n",
    "        \n",
    "    # Convert to tensors\n",
    "    X_tn = torch.Tensor(X_gray)\n",
    "    y_tn = torch.Tensor(y_nums).type(torch.LongTensor)\n",
    "\n",
    "    return X_tn, y_tn"
   ]
  },
  {
   "cell_type": "code",
   "execution_count": 0,
   "metadata": {
    "colab": {},
    "colab_type": "code",
    "id": "QlV0S2BwweFn"
   },
   "outputs": [],
   "source": [
    "# Function to train a model\n",
    "# Parameters passed are an un-trained CNN model, Batch Size, Epochs, Loss Funtion, and Initial Learning Rate\n",
    "# We will also pass in the data with which we want to train the model - used for comparing the training sets\n",
    "\n",
    "def TrainModel(CNN, BatchSize, Epochs, Loss_Function, Init_LR, X, y):\n",
    "    gpu.empty_cache()\n",
    "    \n",
    "    print(\"Training above CNN with Batches of\", BatchSize, \"over\", Epochs, \"epochs...\")\n",
    "\n",
    "    BATCH_SIZE = BatchSize\n",
    "    EPOCHS = Epochs\n",
    "\n",
    "    opt = optim.Adam(CNN.parameters(), lr=Init_LR)\n",
    "    loss_function = Loss_Function\n",
    "\n",
    "    for epoch in range(EPOCHS):\n",
    "        for i in range(0, len(X), BATCH_SIZE): \n",
    "\n",
    "            batch_X = X[i:i+BATCH_SIZE].view(-1, 1, 100, 100)\n",
    "            batch_y = y[i:i+BATCH_SIZE]\n",
    "\n",
    "            CNN.zero_grad()\n",
    "            outputs = CNN(batch_X)\n",
    "            loss = loss_function(outputs, batch_y)\n",
    "            loss.backward()\n",
    "            opt.step()\n",
    "\n",
    "        opt = optim.Adam(CNN.parameters(), lr=New_LR)\n"
   ]
  },
  {
   "cell_type": "code",
   "execution_count": 0,
   "metadata": {
    "colab": {},
    "colab_type": "code",
    "id": "o_xrvD_RxqXu"
   },
   "outputs": [],
   "source": [
    "# Model evaluation function: Loads a pre-trained model and evaluates it using pre-processed test data w/ labels, outputs accuracy and predicted labels\n",
    "\n",
    "def EvaluateModel(model, X, y):\n",
    "\n",
    "    correct = 0\n",
    "    total = 0\n",
    "    y_pred_nums = np.zeros(len(y))\n",
    "    with torch.no_grad():\n",
    "        for i in range(len(X)):\n",
    "            output = model(X[i].view(-1, 1, 100, 100))\n",
    "            y_true = y[i]\n",
    "            y_pred_nums[i] = torch.argmax(output)\n",
    "            if y_true == y_pred_nums[i]:\n",
    "                correct += 1\n",
    "            total += 1\n",
    "    \n",
    "    return round(correct/total, 3), y_pred_nums"
   ]
  },
  {
   "cell_type": "code",
   "execution_count": 0,
   "metadata": {
    "colab": {},
    "colab_type": "code",
    "id": "_OnGeEOi4Ycn"
   },
   "outputs": [],
   "source": [
    "# Post-processing function to convert the predicted labels from numbers to letters\n",
    "\n",
    "def PostProcess(labels, nums):\n",
    "    \n",
    "    # First we need to re-establish the initial transformation of labels to numbers\n",
    "    LE = LabelEncoder()\n",
    "    y_flat = labels.ravel()\n",
    "    y_nums = LE.fit_transform(y_flat)\n",
    "    \n",
    "    # Now we need to convert the predicted numbers to letters\n",
    "    # Convert nums from float to int\n",
    "    nums = nums.astype(int)\n",
    "        \n",
    "    # Use inverse_transform method to revert encoding\n",
    "    letters = LE.inverse_transform(nums)\n",
    "    \n",
    "    return letters"
   ]
  },
  {
   "cell_type": "code",
   "execution_count": 0,
   "metadata": {
    "colab": {},
    "colab_type": "code",
    "id": "StY8cRd4xxEi"
   },
   "outputs": [],
   "source": [
    "# TrainFunction will take in the training data, pre-process it, generate an un-trained model, train that model, and return it\n",
    "def TrainFunction(X, y):\n",
    "\n",
    "    # First we pre-process the training data (it was loaded in the cell with the imports)\n",
    "    X_train, y_train = PreProcess(X, y)\n",
    "\n",
    "    # Next we instantiate an un-trained model and loss function\n",
    "    untrained_model = ConvNetGray()\n",
    "    CE_Loss = nn.CrossEntropyLoss()\n",
    "\n",
    "    # Train the un-trained model using the same parameters as we did for the model we saved\n",
    "    TrainFunction(CNN=untrained_model, BatchSize=128, Epochs=1000, Loss_Function=CE_Loss, Init_LR=0.001, X=X_train, y=y_train)\n",
    "    # untrained_model should now be trained so lets rename it\n",
    "    trained_model = untrained_model\n",
    "    \n",
    "    return trained_model"
   ]
  },
  {
   "cell_type": "code",
   "execution_count": 0,
   "metadata": {
    "colab": {},
    "colab_type": "code",
    "id": "ujEQxJyRx8eJ"
   },
   "outputs": [],
   "source": [
    "# TestFunction will take in a dataset, pre-process it, then load a pre-trained model and evaluate it\n",
    "# Returns accuracy and predicted labels\n",
    "def TestFunction(X, y):\n",
    "\n",
    "    # First we pre-process the test data \n",
    "    X_test, y_test = PreProcess(X, y)\n",
    "\n",
    "    # Next we load in our pre-trained model\n",
    "    pretrained_model = torch.load('CNN_23.pt', map_location=torch.device('cpu'))\n",
    "\n",
    "    # And now we evaluate a pre-trained model using the transformed test data\n",
    "    accuracy, predicted_nums = EvaluateModel(pretrained_model, X_test, y_test)\n",
    "    \n",
    "    # Finally do post-processing to get labels as letters\n",
    "    predicted_labels = PostProcess(labels=y, nums=predicted_nums)\n",
    "\n",
    "    return accuracy, predicted_labels"
   ]
  },
  {
   "cell_type": "code",
   "execution_count": 65,
   "metadata": {
    "colab": {
     "base_uri": "https://localhost:8080/",
     "height": 34
    },
    "colab_type": "code",
    "id": "oRq99kQ5y8kU",
    "outputId": "1359d14c-ff37-4a1f-a316-8d41df9987c0"
   },
   "outputs": [
    {
     "name": "stdout",
     "output_type": "stream",
     "text": [
      "(1475, 100, 100, 3) (1475, 1) (369, 100, 100, 3) (369, 1)\n"
     ]
    }
   ],
   "source": [
    "# Load in required datasets\n",
    "train_data = np.load('provided_train_data.npy')\n",
    "train_labels = np.load('provided_train_labels.npy')\n",
    "test_data = np.load('provided_test_data.npy')\n",
    "test_labels = np.load('provided_test_labels.npy')\n",
    "\n",
    "print(train_data.shape, train_labels.shape, test_data.shape, test_labels.shape)"
   ]
  },
  {
   "cell_type": "code",
   "execution_count": 71,
   "metadata": {
    "colab": {
     "base_uri": "https://localhost:8080/",
     "height": 34
    },
    "colab_type": "code",
    "id": "NVl8tfIA77xh",
    "outputId": "07404a8e-dfbb-461b-e3b6-68ba3b47f9a9"
   },
   "outputs": [
    {
     "name": "stdout",
     "output_type": "stream",
     "text": [
      "0.897\n"
     ]
    }
   ],
   "source": [
    "# Verifying we get the same results as before\n",
    "accuracy, predicted_labels = TestFunction(test_data, test_labels)\n",
    "print(accuracy)"
   ]
  },
  {
   "cell_type": "code",
   "execution_count": 72,
   "metadata": {
    "colab": {
     "base_uri": "https://localhost:8080/",
     "height": 187
    },
    "colab_type": "code",
    "id": "3wSr8Gen68V_",
    "outputId": "87620b41-9f7f-4475-8152-ecb527dcb31e"
   },
   "outputs": [
    {
     "name": "stdout",
     "output_type": "stream",
     "text": [
      "Accuracy per Letter: \n",
      "A: 89.1%\n",
      "B: 90.2%\n",
      "C: 92.9%\n",
      "D: 90.0%\n",
      "E: 90.9%\n",
      "F: 92.7%\n",
      "G: 81.8%\n",
      "H: 92.1%\n",
      "I: 88.2%\n"
     ]
    }
   ],
   "source": [
    "# Determine classifier accuracy for each letter\n",
    "\n",
    "A_correct = B_correct = C_correct = D_correct = E_correct = F_correct = G_correct = H_correct = I_correct = 0\n",
    "A_total = B_total = C_total = D_total = E_total = F_total = G_total = H_total = I_total = 0\n",
    "\n",
    "for i in range(len(predicted_labels)):\n",
    "  if (test_labels[i] == 'A'):\n",
    "    if (predicted_labels[i] == test_labels[i]):\n",
    "      A_correct+= 1\n",
    "    A_total+= 1\n",
    "  elif (test_labels[i] == 'B'):\n",
    "    if (predicted_labels[i] == test_labels[i]):\n",
    "      B_correct+= 1\n",
    "    B_total+= 1\n",
    "  elif (test_labels[i] == 'C'):\n",
    "    if (predicted_labels[i] == test_labels[i]):\n",
    "      C_correct+= 1\n",
    "    C_total+= 1\n",
    "  elif (test_labels[i] == 'D'):\n",
    "    if (predicted_labels[i] == test_labels[i]):\n",
    "      D_correct+= 1\n",
    "    D_total+= 1\n",
    "  elif (test_labels[i] == 'E'):\n",
    "    if (predicted_labels[i] == test_labels[i]):\n",
    "      E_correct+= 1\n",
    "    E_total+= 1\n",
    "  elif (test_labels[i] == 'F'):\n",
    "    if (predicted_labels[i] == test_labels[i]):\n",
    "      F_correct+= 1\n",
    "    F_total+= 1\n",
    "  elif (test_labels[i] == 'G'):\n",
    "    if (predicted_labels[i] == test_labels[i]):\n",
    "      G_correct+= 1\n",
    "    G_total+= 1\n",
    "  elif (test_labels[i] == 'H'):\n",
    "    if (predicted_labels[i] == test_labels[i]):\n",
    "      H_correct+= 1\n",
    "    H_total+= 1\n",
    "  elif (test_labels[i] == 'I'):\n",
    "    if (predicted_labels[i] == test_labels[i]):\n",
    "      I_correct+= 1\n",
    "    I_total+= 1\n",
    "\n",
    "A_acc = round(A_correct/A_total, 3)*100\n",
    "B_acc = round(B_correct/B_total, 3)*100\n",
    "C_acc = round(C_correct/C_total, 3)*100\n",
    "D_acc = round(D_correct/D_total, 3)*100\n",
    "E_acc = round(E_correct/E_total, 3)*100\n",
    "F_acc = round(F_correct/F_total, 3)*100\n",
    "G_acc = round(G_correct/G_total, 3)*100\n",
    "H_acc = round(H_correct/H_total, 3)*100\n",
    "I_acc = round(I_correct/I_total, 3)*100\n",
    "\n",
    "# Had to do this because round wasn't working properly for H\n",
    "H_acc = round(H_acc, 3)\n",
    "\n",
    "print(\"Accuracy per Letter: \")\n",
    "print(\"A: \"+ str(A_acc) + \"%\")\n",
    "print(\"B: \"+ str(B_acc) + \"%\")\n",
    "print(\"C: \"+ str(C_acc) + \"%\")\n",
    "print(\"D: \"+ str(D_acc) + \"%\")\n",
    "print(\"E: \"+ str(E_acc) + \"%\")\n",
    "print(\"F: \"+ str(F_acc) + \"%\")\n",
    "print(\"G: \"+ str(G_acc) + \"%\")\n",
    "print(\"H: \"+ str(H_acc) + \"%\")\n",
    "print(\"I: \"+ str(I_acc) + \"%\")\n"
   ]
  },
  {
   "cell_type": "code",
   "execution_count": 73,
   "metadata": {
    "colab": {
     "base_uri": "https://localhost:8080/",
     "height": 368
    },
    "colab_type": "code",
    "id": "d2QyhkMx97ic",
    "outputId": "4c628da5-8eef-414b-c06e-a6d74b858d12"
   },
   "outputs": [
    {
     "name": "stdout",
     "output_type": "stream",
     "text": [
      "Confusion Matrix:\n"
     ]
    },
    {
     "data": {
      "image/png": "[encoded data removed]",
      "text/plain": [
       "<Figure size 576x396 with 2 Axes>"
      ]
     },
     "metadata": {
      "tags": []
     },
     "output_type": "display_data"
    }
   ],
   "source": [
    "# Print confusion matrix:\n",
    "from sklearn.metrics import confusion_matrix\n",
    "C = confusion_matrix(test_labels, predicted_labels)\n",
    "print(\"Confusion Matrix:\")\n",
    "hm = sb.heatmap(C, annot=True)\n",
    "bottom, top = hm.get_ylim()\n",
    "\n",
    "# # Save this to a file\n",
    "# figure = hm.get_figure()\n",
    "# figure.savefig('ConfusionMatrix.png')"
   ]
  },
  {
   "cell_type": "markdown",
   "metadata": {
    "colab_type": "text",
    "id": "Hir9ocV0D8Rm"
   },
   "source": [
    "### Generate graphs of learning rate for training and validation\n",
    "\n",
    "Plotting accuracy (y-axis) against number of epochs.\n",
    "\n",
    "Since we need to train a new model, we will first init cuda. Then we need to modify TrainModel function and EvaluateModel functions to do this. Will also need to pre-process train and test sets beforehand.\n",
    "\n",
    "**The following code has been commented out after being run once. I saved the data to plot the learning rates and that is shown further below**"
   ]
  },
  {
   "cell_type": "code",
   "execution_count": 0,
   "metadata": {
    "colab": {},
    "colab_type": "code",
    "id": "ofT1eKbOShXg"
   },
   "outputs": [],
   "source": [
    "# # Init cuda for GPU usage\n",
    "# import torch.cuda as gpu\n",
    "# # Check if available\n",
    "# print(\"Available GPU:\", gpu.is_available())\n",
    "# # Get Id and name of default device\n",
    "# print(gpu.current_device())\n",
    "# print(torch.cuda.get_device_name(0)) # '0' is the id of your GPU\n",
    "# # Check memory stats\n",
    "# print(\"Total bytes:\", gpu.get_device_properties(0).total_memory)\n",
    "# print(\"Bytes allocated:\", gpu.memory_allocated())\n",
    "# print(\"Bytes cached:\", gpu.memory_cached())"
   ]
  },
  {
   "cell_type": "code",
   "execution_count": 0,
   "metadata": {
    "colab": {},
    "colab_type": "code",
    "id": "SHv8se_LQb08"
   },
   "outputs": [],
   "source": [
    "# # Generate transformed training and test data:\n",
    "\n",
    "# X_train_tn, y_train_tn = PreProcess(train_data, train_labels)\n",
    "# X_test_tn, y_test_tn = PreProcess(test_data, test_labels)\n",
    "\n",
    "# X_train_tn = X_train_tn.cuda()\n",
    "# y_train_tn = y_train_tn.cuda()\n",
    "# X_test_tn = X_test_tn.cuda()\n",
    "# y_test_tn = y_test_tn.cuda()\n",
    "\n",
    "# print(X_train_tn.shape, y_train_tn.shape, X_test_tn.shape, y_test_tn.shape)"
   ]
  },
  {
   "cell_type": "code",
   "execution_count": 0,
   "metadata": {
    "colab": {},
    "colab_type": "code",
    "id": "xJNFaSHc_CmO"
   },
   "outputs": [],
   "source": [
    "# # Modify TrainModel function:\n",
    "# def GetLearningCurves(CNN, BatchSize, Epochs, Init_LR, X, y):\n",
    "#     gpu.empty_cache()\n",
    "    \n",
    "#     print(\"Training above CNN with Batches of\", BatchSize, \"over\", Epochs, \"epochs...\")\n",
    "#     BATCH_SIZE = BatchSize\n",
    "#     EPOCHS = Epochs\n",
    "\n",
    "#     # New stuff here:\n",
    "#     # Values for x-axis are the number of epochs\n",
    "#     epochs_arr = np.arange(Epochs)\n",
    "#     # Values for y-axis will be the accuracy in each epoch\n",
    "#     acc_per_epoch_train = np.zeros(Epochs)\n",
    "#     acc_per_epoch_test = np.zeros(Epochs)\n",
    "\n",
    "#     opt = optim.Adam(CNN.parameters(), lr=Init_LR)\n",
    "#     loss_function = nn.CrossEntropyLoss()\n",
    "\n",
    "#     for epoch in range(EPOCHS):\n",
    "#         for i in range(0, len(X), BATCH_SIZE): \n",
    "#             batch_X = X[i:i+BATCH_SIZE].view(-1, 1, 100, 100).cuda()\n",
    "#             batch_y = y[i:i+BATCH_SIZE].cuda()\n",
    "\n",
    "#             CNN.zero_grad()\n",
    "#             outputs = CNN(batch_X).cuda()\n",
    "#             loss = loss_function(outputs, batch_y).cuda()\n",
    "#             loss.backward()\n",
    "#             opt.step()   # Does the update\n",
    "\n",
    "#         # Determine accuracy in this epoch using modified evaluation function:\n",
    "#         acc_per_epoch_train[epoch] = ScoreModel(CNN, X_train_tn, y_train_tn)\n",
    "#         acc_per_epoch_test[epoch] = ScoreModel(CNN, X_test_tn, y_test_tn)\n",
    "\n",
    "#         gpu.empty_cache()\n",
    "\n",
    "#     return epochs_arr, acc_per_epoch_train, acc_per_epoch_test"
   ]
  },
  {
   "cell_type": "code",
   "execution_count": 0,
   "metadata": {
    "colab": {},
    "colab_type": "code",
    "id": "3WOgLsm0ImLN"
   },
   "outputs": [],
   "source": [
    "# # Modified evaluation function\n",
    "# def ScoreModel(model, X, y):\n",
    "#     correct = 0\n",
    "#     total = 0\n",
    "#     y_pred_nums = np.zeros(len(y))\n",
    "#     with torch.no_grad():\n",
    "#         for i in range(len(X)):\n",
    "#             output = model(X[i].view(-1, 1, 100, 100))\n",
    "#             y_true = y[i]\n",
    "#             y_pred_nums[i] = torch.argmax(output)# + 1 # This +1 is to match the output encoding of the labels\n",
    "#             if y_true == y_pred_nums[i]:\n",
    "#                 correct += 1\n",
    "#             total += 1\n",
    "    \n",
    "#     return round(correct/total, 3)"
   ]
  },
  {
   "cell_type": "code",
   "execution_count": 0,
   "metadata": {
    "colab": {},
    "colab_type": "code",
    "id": "skNH68kQRQlM"
   },
   "outputs": [],
   "source": [
    "# # Instantiate un-trained model to train and get data for learning rate plots from\n",
    "# newModel = ConvNetGray().cuda()\n",
    "# # Train model using modified training function and get learning rate data\n",
    "# epochs_arr, train_acc, test_acc =  GetLearningCurves(CNN=newModel, BatchSize=128, Epochs=1000,\n",
    "#                                                      Init_LR = 0.001, X=X_train_tn, y=y_train_tn)\n"
   ]
  },
  {
   "cell_type": "markdown",
   "metadata": {
    "colab_type": "text",
    "id": "KiuUKIhT0S_n"
   },
   "source": [
    "### Plotting Learning Rates:"
   ]
  },
  {
   "cell_type": "code",
   "execution_count": 43,
   "metadata": {
    "colab": {
     "base_uri": "https://localhost:8080/",
     "height": 294
    },
    "colab_type": "code",
    "id": "CiuKeeUakLtd",
    "outputId": "d830db82-ebcc-48b2-c7aa-0b7490a5ad35"
   },
   "outputs": [
    {
     "data": {
      "image/png": "[encoded data removed]",
      "text/plain": [
       "<Figure size 432x288 with 1 Axes>"
      ]
     },
     "metadata": {
      "needs_background": "light",
      "tags": []
     },
     "output_type": "display_data"
    }
   ],
   "source": [
    "# Load values for plotting learning rate\n",
    "epochs_arr0 = np.arange(1000)\n",
    "train_acc0 = np.load('LearningRateTrainAcc.npy')\n",
    "test_acc0 = np.load('LearningRateTestAcc.npy')\n",
    "\n",
    "# Plot learning rate graphs\n",
    "plt.plot(epochs_arr0, train_acc0, 'b', label='Training')\n",
    "plt.plot(epochs_arr0, test_acc0, 'r', label='Validation')\n",
    "plt.legend()\n",
    "plt.xlabel('Number of Epochs')\n",
    "plt.ylabel('Accuracy')\n",
    "plt.title(\"Learning Rate in Training and Validation\")\n",
    "plt.savefig('LearningRate.png')"
   ]
  }
 ],
 "metadata": {
  "accelerator": "GPU",
  "colab": {
   "collapsed_sections": [
    "Hir9ocV0D8Rm"
   ],
   "name": "ErrorAnalysis.ipynb",
   "provenance": []
  },
  "kernelspec": {
   "display_name": "Python 3",
   "language": "python",
   "name": "python3"
  },
  "language_info": {
   "codemirror_mode": {
    "name": "ipython",
    "version": 3
   },
   "file_extension": ".py",
   "mimetype": "text/x-python",
   "name": "python",
   "nbconvert_exporter": "python",
   "pygments_lexer": "ipython3",
   "version": "3.7.6"
  }
 },
 "nbformat": 4,
 "nbformat_minor": 1
}
